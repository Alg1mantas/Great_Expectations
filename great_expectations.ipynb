{
 "cells": [
  {
   "cell_type": "code",
   "execution_count": 2,
   "metadata": {},
   "outputs": [],
   "source": [
    "import pandas as pd\n",
    "import great_expectations as ge"
   ]
  },
  {
   "cell_type": "code",
   "execution_count": 5,
   "metadata": {},
   "outputs": [],
   "source": [
    "\n",
    "df = pd.read_csv(\"usage.csv\", names=['customer_id', 'event_start_time', 'event_type', 'rate_plan_id', 'billing_flag_1', 'billing_flag_2', 'duration', 'charge', 'month'])\n",
    "# df.columns =['customer_id', 'event_start_time', 'event_type', 'rate_plan_id', 'billing_flag_1', 'billing_flag_2', 'duration', 'charge', 'month']"
   ]
  },
  {
   "cell_type": "code",
   "execution_count": 6,
   "metadata": {},
   "outputs": [],
   "source": [
    "\n",
    "ge_df = ge.from_pandas(df)\n"
   ]
  },
  {
   "cell_type": "code",
   "execution_count": 7,
   "metadata": {},
   "outputs": [
    {
     "name": "stdout",
     "output_type": "stream",
     "text": [
      "<class 'great_expectations.dataset.pandas_dataset.PandasDataset'>\n",
      "RangeIndex: 22783785 entries, 0 to 22783784\n",
      "Data columns (total 9 columns):\n",
      " #   Column            Dtype  \n",
      "---  ------            -----  \n",
      " 0   customer_id       int64  \n",
      " 1   event_start_time  object \n",
      " 2   event_type        object \n",
      " 3   rate_plan_id      int64  \n",
      " 4   billing_flag_1    int64  \n",
      " 5   billing_flag_2    int64  \n",
      " 6   duration          int64  \n",
      " 7   charge            float64\n",
      " 8   month             object \n",
      "dtypes: float64(1), int64(5), object(3)\n",
      "memory usage: 1.5+ GB\n"
     ]
    }
   ],
   "source": [
    "\n",
    "ge_df.info()"
   ]
  },
  {
   "cell_type": "code",
   "execution_count": 9,
   "metadata": {},
   "outputs": [
    {
     "data": {
      "text/plain": [
       "{\n",
       "  \"result\": {\n",
       "    \"element_count\": 22783785,\n",
       "    \"unexpected_count\": 0,\n",
       "    \"unexpected_percent\": 0.0,\n",
       "    \"unexpected_percent_total\": 0.0,\n",
       "    \"partial_unexpected_list\": []\n",
       "  },\n",
       "  \"exception_info\": {\n",
       "    \"raised_exception\": false,\n",
       "    \"exception_traceback\": null,\n",
       "    \"exception_message\": null\n",
       "  },\n",
       "  \"success\": true,\n",
       "  \"meta\": {}\n",
       "}"
      ]
     },
     "execution_count": 9,
     "metadata": {},
     "output_type": "execute_result"
    }
   ],
   "source": [
    "ge_df.expect_column_values_to_not_be_null(\"customer_id\")"
   ]
  },
  {
   "cell_type": "code",
   "execution_count": 10,
   "metadata": {},
   "outputs": [
    {
     "data": {
      "text/plain": [
       "{\n",
       "  \"result\": {},\n",
       "  \"exception_info\": {\n",
       "    \"raised_exception\": false,\n",
       "    \"exception_traceback\": null,\n",
       "    \"exception_message\": null\n",
       "  },\n",
       "  \"success\": true,\n",
       "  \"meta\": {}\n",
       "}"
      ]
     },
     "execution_count": 10,
     "metadata": {},
     "output_type": "execute_result"
    }
   ],
   "source": [
    "ge_df.expect_column_to_exist(\"month\")"
   ]
  },
  {
   "cell_type": "code",
   "execution_count": 11,
   "metadata": {},
   "outputs": [
    {
     "data": {
      "text/plain": [
       "{\n",
       "  \"result\": {\n",
       "    \"element_count\": 22783785,\n",
       "    \"missing_count\": 0,\n",
       "    \"missing_percent\": 0.0,\n",
       "    \"unexpected_count\": 4538468,\n",
       "    \"unexpected_percent\": 19.919727999540022,\n",
       "    \"unexpected_percent_total\": 19.919727999540022,\n",
       "    \"unexpected_percent_nonmissing\": 19.919727999540022,\n",
       "    \"partial_unexpected_list\": [\n",
       "      1366,\n",
       "      7165,\n",
       "      3001,\n",
       "      6729,\n",
       "      1647,\n",
       "      1298,\n",
       "      1190,\n",
       "      6337,\n",
       "      2435,\n",
       "      4569,\n",
       "      1090,\n",
       "      2328,\n",
       "      3273,\n",
       "      3114,\n",
       "      3969,\n",
       "      4365,\n",
       "      6731,\n",
       "      3473,\n",
       "      7189,\n",
       "      1866\n",
       "    ]\n",
       "  },\n",
       "  \"exception_info\": {\n",
       "    \"raised_exception\": false,\n",
       "    \"exception_traceback\": null,\n",
       "    \"exception_message\": null\n",
       "  },\n",
       "  \"success\": false,\n",
       "  \"meta\": {}\n",
       "}"
      ]
     },
     "execution_count": 11,
     "metadata": {},
     "output_type": "execute_result"
    }
   ],
   "source": [
    "ge_df.expect_column_values_to_be_between(column=\"duration\", min_value=0, max_value=1000)"
   ]
  }
 ],
 "metadata": {
  "kernelspec": {
   "display_name": "Python 3.10.2 64-bit",
   "language": "python",
   "name": "python3"
  },
  "language_info": {
   "codemirror_mode": {
    "name": "ipython",
    "version": 3
   },
   "file_extension": ".py",
   "mimetype": "text/x-python",
   "name": "python",
   "nbconvert_exporter": "python",
   "pygments_lexer": "ipython3",
   "version": "3.10.2"
  },
  "orig_nbformat": 4,
  "vscode": {
   "interpreter": {
    "hash": "fbc768028c3e6ead51d9a200ddcb2ec858ae62844dcd1994729a8279be9b48f2"
   }
  }
 },
 "nbformat": 4,
 "nbformat_minor": 2
}
